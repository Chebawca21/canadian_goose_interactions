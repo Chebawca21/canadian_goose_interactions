{
 "cells": [
  {
   "cell_type": "code",
   "execution_count": 1,
   "metadata": {},
   "outputs": [],
   "source": [
    "import pandas as pd\n",
    "import geopandas as gpd\n",
    "from shapely import Point, LineString"
   ]
  },
  {
   "cell_type": "code",
   "execution_count": 2,
   "metadata": {},
   "outputs": [],
   "source": [
    "filename = \"North-East_American_Canada_goose_migration.csv\"\n",
    "df = pd.read_csv(filename)"
   ]
  },
  {
   "cell_type": "code",
   "execution_count": 3,
   "metadata": {},
   "outputs": [],
   "source": [
    "geometry = []\n",
    "for _, row in df.iterrows():\n",
    "    geometry.append(Point(row['location-long'], row['location-lat']))"
   ]
  },
  {
   "cell_type": "code",
   "execution_count": 4,
   "metadata": {},
   "outputs": [
    {
     "data": {
      "text/html": [
       "<div>\n",
       "<style scoped>\n",
       "    .dataframe tbody tr th:only-of-type {\n",
       "        vertical-align: middle;\n",
       "    }\n",
       "\n",
       "    .dataframe tbody tr th {\n",
       "        vertical-align: top;\n",
       "    }\n",
       "\n",
       "    .dataframe thead th {\n",
       "        text-align: right;\n",
       "    }\n",
       "</style>\n",
       "<table border=\"1\" class=\"dataframe\">\n",
       "  <thead>\n",
       "    <tr style=\"text-align: right;\">\n",
       "      <th></th>\n",
       "      <th>timestamp</th>\n",
       "      <th>height-raw</th>\n",
       "      <th>individual-local-identifier</th>\n",
       "      <th>geometry</th>\n",
       "    </tr>\n",
       "  </thead>\n",
       "  <tbody>\n",
       "    <tr>\n",
       "      <th>0</th>\n",
       "      <td>2018-09-13 05:03:05.000</td>\n",
       "      <td>0.0</td>\n",
       "      <td>1208-75545</td>\n",
       "      <td>POINT (-78.87976 51.93200)</td>\n",
       "    </tr>\n",
       "    <tr>\n",
       "      <th>1</th>\n",
       "      <td>2018-09-13 05:18:21.000</td>\n",
       "      <td>-4.0</td>\n",
       "      <td>1208-75545</td>\n",
       "      <td>POINT (-78.87949 51.93198)</td>\n",
       "    </tr>\n",
       "    <tr>\n",
       "      <th>2</th>\n",
       "      <td>2018-09-13 05:33:34.000</td>\n",
       "      <td>-2.0</td>\n",
       "      <td>1208-75545</td>\n",
       "      <td>POINT (-78.87896 51.93192)</td>\n",
       "    </tr>\n",
       "    <tr>\n",
       "      <th>3</th>\n",
       "      <td>2018-09-13 05:48:47.000</td>\n",
       "      <td>-6.0</td>\n",
       "      <td>1208-75545</td>\n",
       "      <td>POINT (-78.87704 51.93223)</td>\n",
       "    </tr>\n",
       "    <tr>\n",
       "      <th>4</th>\n",
       "      <td>2018-09-13 06:19:29.000</td>\n",
       "      <td>31.0</td>\n",
       "      <td>1208-75545</td>\n",
       "      <td>POINT (-78.87576 51.93283)</td>\n",
       "    </tr>\n",
       "    <tr>\n",
       "      <th>...</th>\n",
       "      <td>...</td>\n",
       "      <td>...</td>\n",
       "      <td>...</td>\n",
       "      <td>...</td>\n",
       "    </tr>\n",
       "    <tr>\n",
       "      <th>1681148</th>\n",
       "      <td>2021-02-01 12:08:02.000</td>\n",
       "      <td>40.0</td>\n",
       "      <td>1208-79489</td>\n",
       "      <td>POINT (-75.62054 39.79138)</td>\n",
       "    </tr>\n",
       "    <tr>\n",
       "      <th>1681149</th>\n",
       "      <td>2021-02-01 12:22:57.000</td>\n",
       "      <td>811.0</td>\n",
       "      <td>1208-79489</td>\n",
       "      <td>POINT (-75.61787 39.79059)</td>\n",
       "    </tr>\n",
       "    <tr>\n",
       "      <th>1681150</th>\n",
       "      <td>2021-02-01 12:38:20.000</td>\n",
       "      <td>88.0</td>\n",
       "      <td>1208-79489</td>\n",
       "      <td>POINT (-75.61929 39.79002)</td>\n",
       "    </tr>\n",
       "    <tr>\n",
       "      <th>1681151</th>\n",
       "      <td>2021-02-01 12:52:57.000</td>\n",
       "      <td>63.0</td>\n",
       "      <td>1208-79489</td>\n",
       "      <td>POINT (-75.61935 39.79107)</td>\n",
       "    </tr>\n",
       "    <tr>\n",
       "      <th>1681152</th>\n",
       "      <td>2021-02-01 13:07:58.000</td>\n",
       "      <td>46.0</td>\n",
       "      <td>1208-79489</td>\n",
       "      <td>POINT (-75.62266 39.79120)</td>\n",
       "    </tr>\n",
       "  </tbody>\n",
       "</table>\n",
       "<p>1681153 rows × 4 columns</p>\n",
       "</div>"
      ],
      "text/plain": [
       "                       timestamp  height-raw individual-local-identifier  \\\n",
       "0        2018-09-13 05:03:05.000         0.0                  1208-75545   \n",
       "1        2018-09-13 05:18:21.000        -4.0                  1208-75545   \n",
       "2        2018-09-13 05:33:34.000        -2.0                  1208-75545   \n",
       "3        2018-09-13 05:48:47.000        -6.0                  1208-75545   \n",
       "4        2018-09-13 06:19:29.000        31.0                  1208-75545   \n",
       "...                          ...         ...                         ...   \n",
       "1681148  2021-02-01 12:08:02.000        40.0                  1208-79489   \n",
       "1681149  2021-02-01 12:22:57.000       811.0                  1208-79489   \n",
       "1681150  2021-02-01 12:38:20.000        88.0                  1208-79489   \n",
       "1681151  2021-02-01 12:52:57.000        63.0                  1208-79489   \n",
       "1681152  2021-02-01 13:07:58.000        46.0                  1208-79489   \n",
       "\n",
       "                           geometry  \n",
       "0        POINT (-78.87976 51.93200)  \n",
       "1        POINT (-78.87949 51.93198)  \n",
       "2        POINT (-78.87896 51.93192)  \n",
       "3        POINT (-78.87704 51.93223)  \n",
       "4        POINT (-78.87576 51.93283)  \n",
       "...                             ...  \n",
       "1681148  POINT (-75.62054 39.79138)  \n",
       "1681149  POINT (-75.61787 39.79059)  \n",
       "1681150  POINT (-75.61929 39.79002)  \n",
       "1681151  POINT (-75.61935 39.79107)  \n",
       "1681152  POINT (-75.62266 39.79120)  \n",
       "\n",
       "[1681153 rows x 4 columns]"
      ]
     },
     "execution_count": 4,
     "metadata": {},
     "output_type": "execute_result"
    }
   ],
   "source": [
    "df = df.drop(['location-long', 'location-lat', 'event-id', 'visible', 'sensor-type', 'tag-local-identifier', 'individual-taxon-canonical-name', 'study-name'], axis='columns')\n",
    "df = gpd.GeoDataFrame(df, geometry=geometry)\n",
    "df.crs = \"Epsg:4326\"\n",
    "df = df.to_crs(epsg=4326)\n",
    "df"
   ]
  },
  {
   "cell_type": "code",
   "execution_count": 5,
   "metadata": {},
   "outputs": [],
   "source": [
    "gdf = df"
   ]
  },
  {
   "cell_type": "code",
   "execution_count": 6,
   "metadata": {},
   "outputs": [],
   "source": [
    "linestrings = {}\n",
    "animals = gdf['individual-local-identifier'].unique()\n",
    "for animal in animals:\n",
    "    animal_gdf = gdf[gdf['individual-local-identifier'] == animal]\n",
    "    animal_gdf = animal_gdf.sort_values('timestamp')\n",
    "    linestrings[animal] = LineString(animal_gdf['geometry'].to_list())\n"
   ]
  },
  {
   "cell_type": "code",
   "execution_count": 7,
   "metadata": {},
   "outputs": [],
   "source": [
    "data = {}\n",
    "data['animal_tag'] = []\n",
    "data['geometry'] = []\n",
    "for key, value in linestrings.items():\n",
    "    data['animal_tag'].append(key)\n",
    "    data['geometry'].append(value)"
   ]
  },
  {
   "cell_type": "code",
   "execution_count": 8,
   "metadata": {},
   "outputs": [
    {
     "data": {
      "text/html": [
       "<div>\n",
       "<style scoped>\n",
       "    .dataframe tbody tr th:only-of-type {\n",
       "        vertical-align: middle;\n",
       "    }\n",
       "\n",
       "    .dataframe tbody tr th {\n",
       "        vertical-align: top;\n",
       "    }\n",
       "\n",
       "    .dataframe thead th {\n",
       "        text-align: right;\n",
       "    }\n",
       "</style>\n",
       "<table border=\"1\" class=\"dataframe\">\n",
       "  <thead>\n",
       "    <tr style=\"text-align: right;\">\n",
       "      <th></th>\n",
       "      <th>animal_tag</th>\n",
       "      <th>geometry</th>\n",
       "    </tr>\n",
       "  </thead>\n",
       "  <tbody>\n",
       "    <tr>\n",
       "      <th>0</th>\n",
       "      <td>1208-75545</td>\n",
       "      <td>LINESTRING (-78.87976 51.93200, -78.87949 51.9...</td>\n",
       "    </tr>\n",
       "    <tr>\n",
       "      <th>1</th>\n",
       "      <td>1208-75599</td>\n",
       "      <td>LINESTRING (-78.87221 51.87758, -78.87594 51.8...</td>\n",
       "    </tr>\n",
       "    <tr>\n",
       "      <th>2</th>\n",
       "      <td>1208-75600</td>\n",
       "      <td>LINESTRING (-78.88998 51.89650, -78.88995 51.8...</td>\n",
       "    </tr>\n",
       "    <tr>\n",
       "      <th>3</th>\n",
       "      <td>1208-75628</td>\n",
       "      <td>LINESTRING (-78.87453 51.89043, -78.87450 51.8...</td>\n",
       "    </tr>\n",
       "    <tr>\n",
       "      <th>4</th>\n",
       "      <td>1208-75633</td>\n",
       "      <td>LINESTRING (-78.79884 51.58872, -78.75671 51.4...</td>\n",
       "    </tr>\n",
       "    <tr>\n",
       "      <th>...</th>\n",
       "      <td>...</td>\n",
       "      <td>...</td>\n",
       "    </tr>\n",
       "    <tr>\n",
       "      <th>77</th>\n",
       "      <td>1208-79901</td>\n",
       "      <td>LINESTRING (-69.73338 60.58117, -69.73277 60.5...</td>\n",
       "    </tr>\n",
       "    <tr>\n",
       "      <th>78</th>\n",
       "      <td>1208-79520</td>\n",
       "      <td>LINESTRING (-69.92357 60.29724, -69.92361 60.2...</td>\n",
       "    </tr>\n",
       "    <tr>\n",
       "      <th>79</th>\n",
       "      <td>1208-79617</td>\n",
       "      <td>LINESTRING (-69.84627 60.60114, -69.84625 60.6...</td>\n",
       "    </tr>\n",
       "    <tr>\n",
       "      <th>80</th>\n",
       "      <td>1208-79485</td>\n",
       "      <td>LINESTRING (-70.03949 60.15304, -70.03951 60.1...</td>\n",
       "    </tr>\n",
       "    <tr>\n",
       "      <th>81</th>\n",
       "      <td>1208-79489</td>\n",
       "      <td>LINESTRING (-70.04015 60.15277, -70.04005 60.1...</td>\n",
       "    </tr>\n",
       "  </tbody>\n",
       "</table>\n",
       "<p>82 rows × 2 columns</p>\n",
       "</div>"
      ],
      "text/plain": [
       "    animal_tag                                           geometry\n",
       "0   1208-75545  LINESTRING (-78.87976 51.93200, -78.87949 51.9...\n",
       "1   1208-75599  LINESTRING (-78.87221 51.87758, -78.87594 51.8...\n",
       "2   1208-75600  LINESTRING (-78.88998 51.89650, -78.88995 51.8...\n",
       "3   1208-75628  LINESTRING (-78.87453 51.89043, -78.87450 51.8...\n",
       "4   1208-75633  LINESTRING (-78.79884 51.58872, -78.75671 51.4...\n",
       "..         ...                                                ...\n",
       "77  1208-79901  LINESTRING (-69.73338 60.58117, -69.73277 60.5...\n",
       "78  1208-79520  LINESTRING (-69.92357 60.29724, -69.92361 60.2...\n",
       "79  1208-79617  LINESTRING (-69.84627 60.60114, -69.84625 60.6...\n",
       "80  1208-79485  LINESTRING (-70.03949 60.15304, -70.03951 60.1...\n",
       "81  1208-79489  LINESTRING (-70.04015 60.15277, -70.04005 60.1...\n",
       "\n",
       "[82 rows x 2 columns]"
      ]
     },
     "execution_count": 8,
     "metadata": {},
     "output_type": "execute_result"
    }
   ],
   "source": [
    "gdf = gpd.GeoDataFrame(data)\n",
    "gdf.crs = \"Epsg:4326\"\n",
    "gdf = gdf.to_crs(epsg=4326)\n",
    "gdf"
   ]
  },
  {
   "cell_type": "code",
   "execution_count": 16,
   "metadata": {},
   "outputs": [
    {
     "ename": "AttributeError",
     "evalue": "'Series' object has no attribute 'iterrows'",
     "output_type": "error",
     "traceback": [
      "\u001b[0;31m---------------------------------------------------------------------------\u001b[0m",
      "\u001b[0;31mAttributeError\u001b[0m                            Traceback (most recent call last)",
      "\u001b[0;32m/tmp/ipykernel_2317/4284876183.py\u001b[0m in \u001b[0;36m?\u001b[0;34m()\u001b[0m\n\u001b[0;32m----> 1\u001b[0;31m \u001b[0;32mfor\u001b[0m \u001b[0m_\u001b[0m\u001b[0;34m,\u001b[0m \u001b[0mrow1\u001b[0m \u001b[0;32min\u001b[0m \u001b[0mgdf\u001b[0m\u001b[0;34m.\u001b[0m\u001b[0miloc\u001b[0m\u001b[0;34m[\u001b[0m\u001b[0;36m72\u001b[0m\u001b[0;34m]\u001b[0m\u001b[0;34m.\u001b[0m\u001b[0miterrows\u001b[0m\u001b[0;34m(\u001b[0m\u001b[0;34m)\u001b[0m\u001b[0;34m:\u001b[0m\u001b[0;34m\u001b[0m\u001b[0;34m\u001b[0m\u001b[0m\n\u001b[0m\u001b[1;32m      2\u001b[0m     \u001b[0mintersections\u001b[0m \u001b[0;34m=\u001b[0m \u001b[0;34m{\u001b[0m\u001b[0;34m}\u001b[0m\u001b[0;34m\u001b[0m\u001b[0;34m\u001b[0m\u001b[0m\n\u001b[1;32m      3\u001b[0m     \u001b[0mintersections\u001b[0m\u001b[0;34m[\u001b[0m\u001b[0;34m'animal_tag1'\u001b[0m\u001b[0;34m]\u001b[0m \u001b[0;34m=\u001b[0m \u001b[0;34m[\u001b[0m\u001b[0;34m]\u001b[0m\u001b[0;34m\u001b[0m\u001b[0;34m\u001b[0m\u001b[0m\n\u001b[1;32m      4\u001b[0m     \u001b[0mintersections\u001b[0m\u001b[0;34m[\u001b[0m\u001b[0;34m'animal_tag2'\u001b[0m\u001b[0;34m]\u001b[0m \u001b[0;34m=\u001b[0m \u001b[0;34m[\u001b[0m\u001b[0;34m]\u001b[0m\u001b[0;34m\u001b[0m\u001b[0;34m\u001b[0m\u001b[0m\n",
      "\u001b[0;32m~/tass/venv/lib/python3.10/site-packages/pandas/core/generic.py\u001b[0m in \u001b[0;36m?\u001b[0;34m(self, name)\u001b[0m\n\u001b[1;32m   6200\u001b[0m             \u001b[0;32mand\u001b[0m \u001b[0mname\u001b[0m \u001b[0;32mnot\u001b[0m \u001b[0;32min\u001b[0m \u001b[0mself\u001b[0m\u001b[0;34m.\u001b[0m\u001b[0m_accessors\u001b[0m\u001b[0;34m\u001b[0m\u001b[0;34m\u001b[0m\u001b[0m\n\u001b[1;32m   6201\u001b[0m             \u001b[0;32mand\u001b[0m \u001b[0mself\u001b[0m\u001b[0;34m.\u001b[0m\u001b[0m_info_axis\u001b[0m\u001b[0;34m.\u001b[0m\u001b[0m_can_hold_identifiers_and_holds_name\u001b[0m\u001b[0;34m(\u001b[0m\u001b[0mname\u001b[0m\u001b[0;34m)\u001b[0m\u001b[0;34m\u001b[0m\u001b[0;34m\u001b[0m\u001b[0m\n\u001b[1;32m   6202\u001b[0m         ):\n\u001b[1;32m   6203\u001b[0m             \u001b[0;32mreturn\u001b[0m \u001b[0mself\u001b[0m\u001b[0;34m[\u001b[0m\u001b[0mname\u001b[0m\u001b[0;34m]\u001b[0m\u001b[0;34m\u001b[0m\u001b[0;34m\u001b[0m\u001b[0m\n\u001b[0;32m-> 6204\u001b[0;31m         \u001b[0;32mreturn\u001b[0m \u001b[0mobject\u001b[0m\u001b[0;34m.\u001b[0m\u001b[0m__getattribute__\u001b[0m\u001b[0;34m(\u001b[0m\u001b[0mself\u001b[0m\u001b[0;34m,\u001b[0m \u001b[0mname\u001b[0m\u001b[0;34m)\u001b[0m\u001b[0;34m\u001b[0m\u001b[0;34m\u001b[0m\u001b[0m\n\u001b[0m",
      "\u001b[0;31mAttributeError\u001b[0m: 'Series' object has no attribute 'iterrows'"
     ]
    }
   ],
   "source": [
    "for _, row1 in gdf.iterrows():\n",
    "    intersections = {}\n",
    "    intersections['animal_tag1'] = []\n",
    "    intersections['animal_tag2'] = []\n",
    "    intersections['geometry'] = []\n",
    "\n",
    "    for _, row2 in gdf.iterrows():\n",
    "        if row1.animal_tag != row2.animal_tag:\n",
    "            intersections['animal_tag1'].append(row1.animal_tag)\n",
    "            intersections['animal_tag2'].append(row2.animal_tag)\n",
    "            intersections['geometry'].append(row1.geometry.intersection(row2.geometry))\n",
    "\n",
    "    intersections_df = pd.DataFrame(intersections)\n",
    "    intersections_df.to_csv(f\"goose_data/{row1.animal_tag}_intersections.csv\")"
   ]
  },
  {
   "cell_type": "code",
   "execution_count": 17,
   "metadata": {},
   "outputs": [
    {
     "ename": "",
     "evalue": "",
     "output_type": "error",
     "traceback": [
      "\u001b[1;31mThe Kernel crashed while executing code in the the current cell or a previous cell. Please review the code in the cell(s) to identify a possible cause of the failure. Click <a href='https://aka.ms/vscodeJupyterKernelCrash'>here</a> for more info. View Jupyter <a href='command:jupyter.viewOutput'>log</a> for further details."
     ]
    }
   ],
   "source": [
    "row1 = gdf.iloc[72]\n",
    "intersections = {}\n",
    "intersections['animal_tag1'] = []\n",
    "intersections['animal_tag2'] = []\n",
    "intersections['geometry'] = []\n",
    "\n",
    "for _, row2 in gdf.iterrows():\n",
    "    if row1.animal_tag != row2.animal_tag:\n",
    "        intersections['animal_tag1'].append(row1.animal_tag)\n",
    "        intersections['animal_tag2'].append(row2.animal_tag)\n",
    "        intersections['geometry'].append(row1.geometry.intersection(row2.geometry))\n",
    "\n",
    "intersections_df = pd.DataFrame(intersections)\n",
    "intersections_df.to_csv(f\"goose_data/{row1.animal_tag}_intersections.csv\")"
   ]
  },
  {
   "cell_type": "code",
   "execution_count": 15,
   "metadata": {},
   "outputs": [
    {
     "data": {
      "text/plain": [
       "animal_tag                                           1278-00649\n",
       "geometry      LINESTRING (-69.780182 60.321075, -69.78022 60...\n",
       "Name: 72, dtype: object"
      ]
     },
     "execution_count": 15,
     "metadata": {},
     "output_type": "execute_result"
    }
   ],
   "source": [
    "gdf.iloc[72]"
   ]
  }
 ],
 "metadata": {
  "kernelspec": {
   "display_name": "venv",
   "language": "python",
   "name": "python3"
  },
  "language_info": {
   "codemirror_mode": {
    "name": "ipython",
    "version": 3
   },
   "file_extension": ".py",
   "mimetype": "text/x-python",
   "name": "python",
   "nbconvert_exporter": "python",
   "pygments_lexer": "ipython3",
   "version": "3.10.12"
  }
 },
 "nbformat": 4,
 "nbformat_minor": 2
}
